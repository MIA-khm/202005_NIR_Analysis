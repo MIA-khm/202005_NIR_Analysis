{
 "cells": [
  {
   "cell_type": "code",
   "execution_count": 10,
   "metadata": {},
   "outputs": [],
   "source": [
    "import os\n",
    "\n",
    "path = \"../\"\n",
    "file_list = os.listdir(path)\n",
    "\n"
   ]
  },
  {
   "cell_type": "code",
   "execution_count": 11,
   "metadata": {},
   "outputs": [
    {
     "name": "stdout",
     "output_type": "stream",
     "text": [
      "(10000, 75) (10000, 71) (10000, 4)\n"
     ]
    }
   ],
   "source": [
    "import pandas as pd\n",
    "import numpy as np\n",
    "%matplotlib inline\n",
    "import seaborn as sns\n",
    "import matplotlib.pyplot as plt\n",
    "\n",
    "from sklearn.multioutput import MultiOutputRegressor\n",
    "import optuna\n",
    "from sklearn.model_selection import cross_val_score, train_test_split, cross_val_predict\n",
    "from sklearn.metrics import mean_absolute_error\n",
    "import shap\n",
    "from lightgbm import LGBMRegressor, LGBMClassifier\n",
    "\n",
    "from tqdm import tqdm\n",
    "from sklearn.ensemble import RandomForestRegressor\n",
    "import warnings ; warnings.filterwarnings('ignore')\n",
    "import time\n",
    "from sklearn.metrics import f1_score, roc_auc_score, classification_report\n",
    "\n",
    "\n",
    "train=pd.read_csv(path + '/train.csv', index_col='id')\n",
    "test=pd.read_csv(path + '/test.csv', index_col='id')\n",
    "submission=pd.read_csv(path + '/sample_submission.csv', index_col='id')\n",
    "\n",
    "print(train.shape, test.shape, submission.shape)\n",
    "\n"
   ]
  },
  {
   "cell_type": "code",
   "execution_count": 12,
   "metadata": {},
   "outputs": [],
   "source": [
    "def datafill(data):\n",
    "    data_dst = data.filter(regex='_dst$', axis=1).replace(0, np.NaN)\n",
    "    data_dst = data_dst.interpolate(methods='linear',axis=1)\n",
    "    data_dst.fillna(0,inplace=True)\n",
    "    return data_dst"
   ]
  },
  {
   "cell_type": "code",
   "execution_count": 13,
   "metadata": {},
   "outputs": [],
   "source": [
    "train = datafill(train)\n",
    "test = datafill(test)\n",
    "submission = datafill(submission)"
   ]
  },
  {
   "cell_type": "code",
   "execution_count": 15,
   "metadata": {},
   "outputs": [],
   "source": [
    "train.to_csv('train_nanfill.csv')\n",
    "test.to_csv('test_nanfill.csv')\n",
    "submission.to_csv('submission_nanfill.csv')"
   ]
  },
  {
   "cell_type": "code",
   "execution_count": null,
   "metadata": {},
   "outputs": [],
   "source": []
  }
 ],
 "metadata": {
  "kernelspec": {
   "display_name": "Data",
   "language": "python",
   "name": "data"
  },
  "language_info": {
   "codemirror_mode": {
    "name": "ipython",
    "version": 3
   },
   "file_extension": ".py",
   "mimetype": "text/x-python",
   "name": "python",
   "nbconvert_exporter": "python",
   "pygments_lexer": "ipython3",
   "version": "3.7.7"
  }
 },
 "nbformat": 4,
 "nbformat_minor": 4
}
